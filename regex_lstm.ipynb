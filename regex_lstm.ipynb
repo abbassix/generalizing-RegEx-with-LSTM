{
  "nbformat": 4,
  "nbformat_minor": 0,
  "metadata": {
    "colab": {
      "name": "regex_lstm.ipynb",
      "provenance": [],
      "collapsed_sections": [],
      "authorship_tag": "ABX9TyOnx9+IzDjFGHpBWI/RRMWr",
      "include_colab_link": true
    },
    "kernelspec": {
      "name": "python3",
      "display_name": "Python 3"
    },
    "language_info": {
      "name": "python"
    }
  },
  "cells": [
    {
      "cell_type": "markdown",
      "metadata": {
        "id": "view-in-github",
        "colab_type": "text"
      },
      "source": [
        "<a href=\"https://colab.research.google.com/github/abbassix/generalizing-RegEx-with-LSTM/blob/main/regex_lstm.ipynb\" target=\"_parent\"><img src=\"https://colab.research.google.com/assets/colab-badge.svg\" alt=\"Open In Colab\"/></a>"
      ]
    },
    {
      "cell_type": "code",
      "metadata": {
        "id": "t-EShu_YR7Xn"
      },
      "source": [
        "# generate simple regexes like ab[ca]db\n",
        "def regex_generator(length=4.79, n_det=0, n_undet=0, letters='abcdefghijklmnopqrstuvwxyzABCDEFGHIJKLMNOPQRSTUVWXYZ', nails_length=4):\n",
        "  import random\n",
        "  def inject(string, positions, nails):\n",
        "    positions = [0] + sorted(positions * 2) + [len(string)]\n",
        "    positions = [(positions[i], positions[i+1]) for i in range(0, len(positions), 2)]\n",
        "    partitions = [string[i:j] for (i, j) in positions]\n",
        "    return(''.join([p_+n_ for p_, n_ in zip(partitions, nails)])+partitions[-1])\n",
        "\n",
        "  if n_det == 0:\n",
        "    n_det = max(round(random.gauss(length, 1)), 3)\n",
        "  if n_undet == 0:\n",
        "    n_undet = random.randint(1, round((n_det-1)/2))\n",
        "    \n",
        "  positions = sorted([random.randint(1, int(length) - 1) for _ in range(n_undet)])\n",
        "    \n",
        "  regex_det = ''.join([random.choice(letters) for i in range(n_det)])\n",
        "    \n",
        "  nails = ['[' + ''.join([random.choice(letters) for _ in range(random.randint(2, nails_length))]) + ']' for _ in range(n_undet)]\n",
        "\n",
        "  regex_sample = inject(regex_det, positions, nails)\n",
        "\n",
        "  return(regex_sample)\n",
        "\n",
        "# TO DO: more complex structures"
      ],
      "execution_count": 1,
      "outputs": []
    },
    {
      "cell_type": "code",
      "metadata": {
        "colab": {
          "base_uri": "https://localhost:8080/"
        },
        "id": "DsQLX2TNSBNy",
        "outputId": "1119ae65-d67e-48db-ff08-e8eaf1d5b960"
      },
      "source": [
        "# install rstr to make samples from regexes as training data\n",
        "!pip install rstr"
      ],
      "execution_count": 2,
      "outputs": [
        {
          "output_type": "stream",
          "text": [
            "Collecting rstr\n",
            "  Downloading https://files.pythonhosted.org/packages/b9/30/1e10f00ea45c899ab946f9bde77be49e796a28cb96797ab8b249566490ef/rstr-2.2.6-py2.py3-none-any.whl\n",
            "Installing collected packages: rstr\n",
            "Successfully installed rstr-2.2.6\n"
          ],
          "name": "stdout"
        }
      ]
    },
    {
      "cell_type": "code",
      "metadata": {
        "id": "KK5rvmAGSEig"
      },
      "source": [
        "# decode regexes into samples\n",
        "def regex_decoder(regex):\n",
        "  import rstr\n",
        "  return(rstr.xeger(regex))"
      ],
      "execution_count": 3,
      "outputs": []
    },
    {
      "cell_type": "code",
      "metadata": {
        "id": "P43T79dTSIOb"
      },
      "source": [
        "# generate 5000 regexes\n",
        "letters = 'abcdefghijklmnopqrstuvwxyz'\n",
        "y = [regex_generator(length=5, letters=letters, nails_length=2) for _ in range(5000)]"
      ],
      "execution_count": 4,
      "outputs": []
    },
    {
      "cell_type": "code",
      "metadata": {
        "id": "H9u7f2F0SK0E"
      },
      "source": [
        "# generate samples from regexes and remove the repetitions\n",
        "X = [list(set([regex_decoder(regex) for _ in range(100)])) for regex in y]"
      ],
      "execution_count": 5,
      "outputs": []
    },
    {
      "cell_type": "code",
      "metadata": {
        "id": "Eg-KraGMSMte"
      },
      "source": [
        "# make the dataset as a Pandas Data Frame\n",
        "import pandas as pd\n",
        "trainset = pd.DataFrame({'X': X, 'y': y})"
      ],
      "execution_count": 6,
      "outputs": []
    },
    {
      "cell_type": "code",
      "metadata": {
        "id": "DuYdTI34SSwl"
      },
      "source": [
        "# remove those who have only one sample as training and so there could be no generalization at all\n",
        "trainset = trainset[trainset.X.apply(lambda x: len(x) >= 2)]"
      ],
      "execution_count": 7,
      "outputs": []
    },
    {
      "cell_type": "code",
      "metadata": {
        "colab": {
          "base_uri": "https://localhost:8080/",
          "height": 283
        },
        "id": "ok6Crhh2SaO6",
        "outputId": "d4e542e5-7306-49e8-b08c-52d0e42965ee"
      },
      "source": [
        "# show histogram of number of samples\n",
        "trainset.X.apply(lambda x: len(x)).hist()"
      ],
      "execution_count": 8,
      "outputs": [
        {
          "output_type": "execute_result",
          "data": {
            "text/plain": [
              "<matplotlib.axes._subplots.AxesSubplot at 0x7ff1d319a2d0>"
            ]
          },
          "metadata": {
            "tags": []
          },
          "execution_count": 8
        },
        {
          "output_type": "display_data",
          "data": {
            "image/png": "[encoded data removed]",
            "text/plain": [
              "<Figure size 432x288 with 1 Axes>"
            ]
          },
          "metadata": {
            "tags": [],
            "needs_background": "light"
          }
        }
      ]
    },
    {
      "cell_type": "code",
      "metadata": {
        "id": "ghXXQvSXSdNA"
      },
      "source": [
        "import numpy as np\n",
        "import tensorflow as tf\n",
        "from tensorflow import keras"
      ],
      "execution_count": 9,
      "outputs": []
    },
    {
      "cell_type": "code",
      "metadata": {
        "colab": {
          "base_uri": "https://localhost:8080/",
          "height": 175
        },
        "id": "ZbMxnzqcSmag",
        "outputId": "69aad0c0-c534-4f17-bcdd-e8d2b12ecbf2"
      },
      "source": [
        "trainset.describe()"
      ],
      "execution_count": 10,
      "outputs": [
        {
          "output_type": "execute_result",
          "data": {
            "text/html": [
              "<div>\n",
              "<style scoped>\n",
              "    .dataframe tbody tr th:only-of-type {\n",
              "        vertical-align: middle;\n",
              "    }\n",
              "\n",
              "    .dataframe tbody tr th {\n",
              "        vertical-align: top;\n",
              "    }\n",
              "\n",
              "    .dataframe thead th {\n",
              "        text-align: right;\n",
              "    }\n",
              "</style>\n",
              "<table border=\"1\" class=\"dataframe\">\n",
              "  <thead>\n",
              "    <tr style=\"text-align: right;\">\n",
              "      <th></th>\n",
              "      <th>X</th>\n",
              "      <th>y</th>\n",
              "    </tr>\n",
              "  </thead>\n",
              "  <tbody>\n",
              "    <tr>\n",
              "      <th>count</th>\n",
              "      <td>4911</td>\n",
              "      <td>4911</td>\n",
              "    </tr>\n",
              "    <tr>\n",
              "      <th>unique</th>\n",
              "      <td>4911</td>\n",
              "      <td>4911</td>\n",
              "    </tr>\n",
              "    <tr>\n",
              "      <th>top</th>\n",
              "      <td>[fygeig, fyreig]</td>\n",
              "      <td>ng[oz]xo[lh]a</td>\n",
              "    </tr>\n",
              "    <tr>\n",
              "      <th>freq</th>\n",
              "      <td>1</td>\n",
              "      <td>1</td>\n",
              "    </tr>\n",
              "  </tbody>\n",
              "</table>\n",
              "</div>"
            ],
            "text/plain": [
              "                       X              y\n",
              "count               4911           4911\n",
              "unique              4911           4911\n",
              "top     [fygeig, fyreig]  ng[oz]xo[lh]a\n",
              "freq                   1              1"
            ]
          },
          "metadata": {
            "tags": []
          },
          "execution_count": 10
        }
      ]
    },
    {
      "cell_type": "code",
      "metadata": {
        "id": "6LzTPL_SSm0y"
      },
      "source": [
        "batch_size = 64  # Batch size for training.\n",
        "epochs = 25  # Number of epochs to train for.\n",
        "latent_dim = 256  # Latent dimensionality of the encoding space.\n",
        "num_samples = 4800  # Number of samples to train on."
      ],
      "execution_count": 11,
      "outputs": []
    },
    {
      "cell_type": "code",
      "metadata": {
        "colab": {
          "base_uri": "https://localhost:8080/"
        },
        "id": "m4njuEebSqgJ",
        "outputId": "15838406-6302-41ea-ee90-382241dc65b5"
      },
      "source": [
        "# Vectorize the data.\n",
        "input_texts = []\n",
        "target_texts = []\n",
        "input_characters = set(' ')\n",
        "target_characters = set(' ')\n",
        "\n",
        "for index, row in trainset.iterrows():\n",
        "    input_text, target_text = row[0], row[1]\n",
        "    # convert the input from list to string\n",
        "    input_text = '•'.join(input_text)\n",
        "    # We use \"tab\" as the \"start sequence\" character\n",
        "    # for the targets, and \"\\n\" as \"end sequence\" character.\n",
        "    target_text = \"\\t\" + target_text + \"\\n\"\n",
        "    input_texts.append(input_text)\n",
        "    target_texts.append(target_text)\n",
        "    for char in input_text:\n",
        "        if char not in input_characters:\n",
        "            input_characters.add(char)\n",
        "    for char in target_text:\n",
        "        if char not in target_characters:\n",
        "            target_characters.add(char)\n",
        "\n",
        "input_characters = sorted(list(input_characters))\n",
        "target_characters = sorted(list(target_characters))\n",
        "num_encoder_tokens = len(input_characters)\n",
        "num_decoder_tokens = len(target_characters)\n",
        "max_encoder_seq_length = max([len(txt) for txt in input_texts])\n",
        "max_decoder_seq_length = max([len(txt) for txt in target_texts])\n",
        "\n",
        "print(\"Number of samples:\", len(input_texts))\n",
        "print(\"Number of unique input tokens:\", num_encoder_tokens)\n",
        "print(\"Number of unique output tokens:\", num_decoder_tokens)\n",
        "print(\"Max sequence length for inputs:\", max_encoder_seq_length)\n",
        "print(\"Max sequence length for outputs:\", max_decoder_seq_length)\n",
        "\n",
        "input_token_index = dict([(char, i) for i, char in enumerate(input_characters)])\n",
        "target_token_index = dict([(char, i) for i, char in enumerate(target_characters)])\n",
        "\n",
        "encoder_input_data = np.zeros(\n",
        "    (len(input_texts), max_encoder_seq_length, num_encoder_tokens), dtype=\"float32\"\n",
        ")\n",
        "decoder_input_data = np.zeros(\n",
        "    (len(input_texts), max_decoder_seq_length, num_decoder_tokens), dtype=\"float32\"\n",
        ")\n",
        "decoder_target_data = np.zeros(\n",
        "    (len(input_texts), max_decoder_seq_length, num_decoder_tokens), dtype=\"float32\"\n",
        ")\n",
        "\n",
        "for i, (input_text, target_text) in enumerate(zip(input_texts, target_texts)):\n",
        "    for t, char in enumerate(input_text):\n",
        "        encoder_input_data[i, t, input_token_index[char]] = 1.0  # one-hot encoding\n",
        "    encoder_input_data[i, t + 1 :, input_token_index[\" \"]] = 1.0  # padding the rest with space\n",
        "    for t, char in enumerate(target_text):\n",
        "        # decoder_target_data is ahead of decoder_input_data by one timestep\n",
        "        decoder_input_data[i, t, target_token_index[char]] = 1.0\n",
        "        if t > 0:\n",
        "            # decoder_target_data will be ahead by one timestep\n",
        "            # and will not include the start character.\n",
        "            decoder_target_data[i, t - 1, target_token_index[char]] = 1.0\n",
        "    decoder_input_data[i, t + 1 :, target_token_index[\" \"]] = 1.0\n",
        "    decoder_target_data[i, t:, target_token_index[\" \"]] = 1.0"
      ],
      "execution_count": 12,
      "outputs": [
        {
          "output_type": "stream",
          "text": [
            "Number of samples: 4911\n",
            "Number of unique input tokens: 28\n",
            "Number of unique output tokens: 31\n",
            "Max sequence length for inputs: 207\n",
            "Max sequence length for outputs: 26\n"
          ],
          "name": "stdout"
        }
      ]
    },
    {
      "cell_type": "code",
      "metadata": {
        "id": "RAstcxTnStbg"
      },
      "source": [
        "# Define an input sequence and process it.\n",
        "encoder_inputs = keras.Input(shape=(None, num_encoder_tokens))\n",
        "encoder = keras.layers.LSTM(latent_dim, return_state=True)\n",
        "encoder_outputs, state_h, state_c = encoder(encoder_inputs)\n",
        "\n",
        "# We discard `encoder_outputs` and only keep the states.\n",
        "encoder_states = [state_h, state_c]\n",
        "\n",
        "# Set up the decoder, using `encoder_states` as initial state.\n",
        "decoder_inputs = keras.Input(shape=(None, num_decoder_tokens))\n",
        "\n",
        "# We set up our decoder to return full output sequences,\n",
        "# and to return internal states as well. We don't use the\n",
        "# return states in the training model, but we will use them in inference.\n",
        "decoder_lstm = keras.layers.LSTM(latent_dim, return_sequences=True, return_state=True)\n",
        "decoder_outputs, _, _ = decoder_lstm(decoder_inputs, initial_state=encoder_states)\n",
        "decoder_dense = keras.layers.Dense(num_decoder_tokens, activation=\"softmax\")\n",
        "decoder_outputs = decoder_dense(decoder_outputs)\n",
        "\n",
        "# Define the model that will turn\n",
        "# `encoder_input_data` & `decoder_input_data` into `decoder_target_data`\n",
        "model = keras.Model([encoder_inputs, decoder_inputs], decoder_outputs)"
      ],
      "execution_count": 13,
      "outputs": []
    },
    {
      "cell_type": "code",
      "metadata": {
        "colab": {
          "base_uri": "https://localhost:8080/"
        },
        "id": "ZmKxZpiHSxUc",
        "outputId": "06ed8869-df6a-4305-8109-70d399d16943"
      },
      "source": [
        "model.compile(\n",
        "    optimizer=\"rmsprop\", loss=\"categorical_crossentropy\", metrics=[\"accuracy\"]\n",
        ")\n",
        "model.fit(\n",
        "    [encoder_input_data, decoder_input_data],\n",
        "    decoder_target_data,\n",
        "    batch_size=batch_size,\n",
        "    epochs=epochs,\n",
        "    validation_split=0.1,\n",
        ")\n",
        "# Save model\n",
        "model.save(\"lstm_regex\")\n"
      ],
      "execution_count": 14,
      "outputs": [
        {
          "output_type": "stream",
          "text": [
            "Epoch 1/25\n",
            "70/70 [==============================] - 72s 974ms/step - loss: 1.9225 - accuracy: 0.5476 - val_loss: 1.6446 - val_accuracy: 0.6116\n",
            "Epoch 2/25\n",
            "70/70 [==============================] - 68s 969ms/step - loss: 1.5091 - accuracy: 0.6167 - val_loss: 1.4652 - val_accuracy: 0.6379\n",
            "Epoch 3/25\n",
            "70/70 [==============================] - 68s 973ms/step - loss: 1.3852 - accuracy: 0.6576 - val_loss: 1.3509 - val_accuracy: 0.6596\n",
            "Epoch 4/25\n",
            "70/70 [==============================] - 68s 972ms/step - loss: 1.2590 - accuracy: 0.6777 - val_loss: 1.2682 - val_accuracy: 0.6707\n",
            "Epoch 5/25\n",
            "70/70 [==============================] - 67s 963ms/step - loss: 1.2013 - accuracy: 0.6845 - val_loss: 1.2344 - val_accuracy: 0.6805\n",
            "Epoch 6/25\n",
            "70/70 [==============================] - 68s 965ms/step - loss: 1.1877 - accuracy: 0.6859 - val_loss: 1.1985 - val_accuracy: 0.6863\n",
            "Epoch 7/25\n",
            "70/70 [==============================] - 68s 968ms/step - loss: 1.1725 - accuracy: 0.6888 - val_loss: 1.1787 - val_accuracy: 0.6873\n",
            "Epoch 8/25\n",
            "70/70 [==============================] - 68s 972ms/step - loss: 1.1662 - accuracy: 0.6902 - val_loss: 1.1835 - val_accuracy: 0.6860\n",
            "Epoch 9/25\n",
            "70/70 [==============================] - 68s 970ms/step - loss: 1.1679 - accuracy: 0.6887 - val_loss: 1.1952 - val_accuracy: 0.6831\n",
            "Epoch 10/25\n",
            "70/70 [==============================] - 68s 973ms/step - loss: 1.1616 - accuracy: 0.6910 - val_loss: 1.1877 - val_accuracy: 0.6847\n",
            "Epoch 11/25\n",
            "70/70 [==============================] - 69s 981ms/step - loss: 1.1642 - accuracy: 0.6900 - val_loss: 1.1794 - val_accuracy: 0.6857\n",
            "Epoch 12/25\n",
            "70/70 [==============================] - 68s 977ms/step - loss: 1.1581 - accuracy: 0.6908 - val_loss: 1.1882 - val_accuracy: 0.6864\n",
            "Epoch 13/25\n",
            "70/70 [==============================] - 69s 989ms/step - loss: 1.1588 - accuracy: 0.6917 - val_loss: 1.2069 - val_accuracy: 0.6823\n",
            "Epoch 14/25\n",
            "70/70 [==============================] - 68s 975ms/step - loss: 1.1576 - accuracy: 0.6910 - val_loss: 1.1733 - val_accuracy: 0.6871\n",
            "Epoch 15/25\n",
            "70/70 [==============================] - 69s 981ms/step - loss: 1.1525 - accuracy: 0.6922 - val_loss: 1.1763 - val_accuracy: 0.6886\n",
            "Epoch 16/25\n",
            "70/70 [==============================] - 69s 983ms/step - loss: 1.1597 - accuracy: 0.6910 - val_loss: 1.1711 - val_accuracy: 0.6887\n",
            "Epoch 17/25\n",
            "70/70 [==============================] - 69s 990ms/step - loss: 1.1482 - accuracy: 0.6930 - val_loss: 1.1908 - val_accuracy: 0.6852\n",
            "Epoch 18/25\n",
            "70/70 [==============================] - 71s 1s/step - loss: 1.1581 - accuracy: 0.6912 - val_loss: 1.1995 - val_accuracy: 0.6852\n",
            "Epoch 19/25\n",
            "70/70 [==============================] - 69s 993ms/step - loss: 1.1522 - accuracy: 0.6918 - val_loss: 1.1850 - val_accuracy: 0.6871\n",
            "Epoch 20/25\n",
            "70/70 [==============================] - 69s 987ms/step - loss: 1.1506 - accuracy: 0.6925 - val_loss: 1.1765 - val_accuracy: 0.6884\n",
            "Epoch 21/25\n",
            "70/70 [==============================] - 70s 1s/step - loss: 1.1476 - accuracy: 0.6925 - val_loss: 1.1777 - val_accuracy: 0.6868\n",
            "Epoch 22/25\n",
            "70/70 [==============================] - 70s 996ms/step - loss: 1.1468 - accuracy: 0.6932 - val_loss: 1.1854 - val_accuracy: 0.6841\n",
            "Epoch 23/25\n",
            "70/70 [==============================] - 70s 999ms/step - loss: 1.1427 - accuracy: 0.6942 - val_loss: 1.1775 - val_accuracy: 0.6890\n",
            "Epoch 24/25\n",
            "70/70 [==============================] - 71s 1s/step - loss: 1.1435 - accuracy: 0.6942 - val_loss: 1.1866 - val_accuracy: 0.6871\n",
            "Epoch 25/25\n",
            "70/70 [==============================] - 70s 998ms/step - loss: 1.1463 - accuracy: 0.6944 - val_loss: 1.1845 - val_accuracy: 0.6869\n"
          ],
          "name": "stdout"
        },
        {
          "output_type": "stream",
          "text": [
            "WARNING:absl:Found untraced functions such as lstm_cell_layer_call_and_return_conditional_losses, lstm_cell_layer_call_fn, lstm_cell_1_layer_call_and_return_conditional_losses, lstm_cell_1_layer_call_fn, lstm_cell_layer_call_fn while saving (showing 5 of 10). These functions will not be directly callable after loading.\n",
            "WARNING:absl:Found untraced functions such as lstm_cell_layer_call_and_return_conditional_losses, lstm_cell_layer_call_fn, lstm_cell_1_layer_call_and_return_conditional_losses, lstm_cell_1_layer_call_fn, lstm_cell_layer_call_fn while saving (showing 5 of 10). These functions will not be directly callable after loading.\n"
          ],
          "name": "stderr"
        },
        {
          "output_type": "stream",
          "text": [
            "INFO:tensorflow:Assets written to: lstm_regex/assets\n"
          ],
          "name": "stdout"
        },
        {
          "output_type": "stream",
          "text": [
            "INFO:tensorflow:Assets written to: lstm_regex/assets\n"
          ],
          "name": "stderr"
        }
      ]
    },
    {
      "cell_type": "code",
      "metadata": {
        "id": "8pw8GCiJSz4e"
      },
      "source": [
        "# Define sampling models\n",
        "# Restore the model and construct the encoder and decoder.\n",
        "model = keras.models.load_model(\"lstm_regex\")\n",
        "\n",
        "encoder_inputs = model.input[0]  # input_1\n",
        "encoder_outputs, state_h_enc, state_c_enc = model.layers[2].output  # lstm_1\n",
        "encoder_states = [state_h_enc, state_c_enc]\n",
        "encoder_model = keras.Model(encoder_inputs, encoder_states)\n",
        "\n",
        "decoder_inputs = model.input[1]  # input_2\n",
        "decoder_state_input_h = keras.Input(shape=(latent_dim,), name=\"input_3\")\n",
        "decoder_state_input_c = keras.Input(shape=(latent_dim,), name=\"input_4\")\n",
        "decoder_states_inputs = [decoder_state_input_h, decoder_state_input_c]\n",
        "decoder_lstm = model.layers[3]\n",
        "decoder_outputs, state_h_dec, state_c_dec = decoder_lstm(\n",
        "    decoder_inputs, initial_state=decoder_states_inputs\n",
        ")\n",
        "decoder_states = [state_h_dec, state_c_dec]\n",
        "decoder_dense = model.layers[4]\n",
        "decoder_outputs = decoder_dense(decoder_outputs)\n",
        "decoder_model = keras.Model(\n",
        "    [decoder_inputs] + decoder_states_inputs, [decoder_outputs] + decoder_states\n",
        ")\n",
        "\n",
        "# Reverse-lookup token index to decode sequences back to\n",
        "# something readable.\n",
        "reverse_input_char_index = dict((i, char) for char, i in input_token_index.items())\n",
        "reverse_target_char_index = dict((i, char) for char, i in target_token_index.items())\n",
        "\n",
        "\n",
        "def decode_sequence(input_seq):\n",
        "    # Encode the input as state vectors.\n",
        "    states_value = encoder_model.predict(input_seq)\n",
        "\n",
        "    # Generate empty target sequence of length 1.\n",
        "    target_seq = np.zeros((1, 1, num_decoder_tokens))\n",
        "    # Populate the first character of target sequence with the start character.\n",
        "    target_seq[0, 0, target_token_index[\"\\t\"]] = 1.0\n",
        "\n",
        "    # Sampling loop for a batch of sequences\n",
        "    # (to simplify, here we assume a batch of size 1).\n",
        "    stop_condition = False\n",
        "    decoded_sentence = \"\"\n",
        "    while not stop_condition:\n",
        "        output_tokens, h, c = decoder_model.predict([target_seq] + states_value)\n",
        "\n",
        "        # Sample a token\n",
        "        sampled_token_index = np.argmax(output_tokens[0, -1, :])\n",
        "        sampled_char = reverse_target_char_index[sampled_token_index]\n",
        "        decoded_sentence += sampled_char\n",
        "\n",
        "        # Exit condition: either hit max length\n",
        "        # or find stop character.\n",
        "        if sampled_char == \"\\n\" or len(decoded_sentence) > max_decoder_seq_length:\n",
        "            stop_condition = True\n",
        "\n",
        "        # Update the target sequence (of length 1).\n",
        "        target_seq = np.zeros((1, 1, num_decoder_tokens))\n",
        "        target_seq[0, 0, sampled_token_index] = 1.0\n",
        "\n",
        "        # Update states\n",
        "        states_value = [h, c]\n",
        "    return decoded_sentence\n"
      ],
      "execution_count": 15,
      "outputs": []
    },
    {
      "cell_type": "code",
      "metadata": {
        "colab": {
          "base_uri": "https://localhost:8080/"
        },
        "id": "itGGG7FkS5bq",
        "outputId": "a33f2fd1-8093-4837-e82b-79b1e0ea25eb"
      },
      "source": [
        "for seq_index in range(20):\n",
        "    # Take one sequence (part of the training set)\n",
        "    # for trying out decoding.\n",
        "    input_seq = encoder_input_data[seq_index : seq_index + 1]\n",
        "    decoded_sentence = decode_sequence(input_seq)\n",
        "    print(\"-\")\n",
        "    print(\"Input sentence:\", input_texts[seq_index])\n",
        "    print(\"Decoded sentence:\", decoded_sentence)\n"
      ],
      "execution_count": 16,
      "outputs": [
        {
          "output_type": "stream",
          "text": [
            "-\n",
            "Input sentence: rdfnydr•rdfnbdr\n",
            "Decoded sentence: t[mm][mm]nmm\n",
            "\n",
            "-\n",
            "Input sentence: ohhzzvlw•ohhzzplw•oyhzzvlw•oyhzzplw\n",
            "Decoded sentence: t[mm][mm]nmm\n",
            "\n",
            "-\n",
            "Input sentence: wvavkx•wlavkx\n",
            "Decoded sentence: t[mm][mm]nmm\n",
            "\n",
            "-\n",
            "Input sentence: tqkbsfn•tqzbsfn\n",
            "Decoded sentence: t[mm][mm]nmm\n",
            "\n",
            "-\n",
            "Input sentence: ehcsyk•ehlsyk\n",
            "Decoded sentence: t[mm][mm]nmm\n",
            "\n",
            "-\n",
            "Input sentence: yloth•ylota\n",
            "Decoded sentence: t[mm][mm]nmm\n",
            "\n",
            "-\n",
            "Input sentence: napwpe•napope•nupope•nupwpe\n",
            "Decoded sentence: t[mm][mm]nmm\n",
            "\n",
            "-\n",
            "Input sentence: lnbnoin•lrbnoin\n",
            "Decoded sentence: t[mm][mm]nmm\n",
            "\n",
            "-\n",
            "Input sentence: kvgqkfl•kvgnrfl•kvgnkfl•kvgqrfl\n",
            "Decoded sentence: t[mm][mm]nmm\n",
            "\n",
            "-\n",
            "Input sentence: imrpyok•imppyok•imrpjok•imppjok\n",
            "Decoded sentence: t[mm][mm]nmm\n",
            "\n",
            "-\n",
            "Input sentence: zwdypolk•zwpyqolk•zwdyqolk•zwpypolk\n",
            "Decoded sentence: t[mm][mm]nmm\n",
            "\n",
            "-\n",
            "Input sentence: wxzki•wxrki\n",
            "Decoded sentence: t[mm][mm]nmm\n",
            "\n",
            "-\n",
            "Input sentence: eibyuy•eibyly•eabyuy•eabyly\n",
            "Decoded sentence: t[mm][mm]nmm\n",
            "\n",
            "-\n",
            "Input sentence: uxwz•uxpz\n",
            "Decoded sentence: t[mm][mm]nmm\n",
            "\n",
            "-\n",
            "Input sentence: kybifgg•kybifyg•kvbifgg•kvbifyg\n",
            "Decoded sentence: t[mm][mm]nmm\n",
            "\n",
            "-\n",
            "Input sentence: nzjwslg•nzjxslg\n",
            "Decoded sentence: t[mm][mm]nmm\n",
            "\n",
            "-\n",
            "Input sentence: fogjfsu•fojjfsu•fojjfju•fogjfju\n",
            "Decoded sentence: t[mm][mm]nmm\n",
            "\n",
            "-\n",
            "Input sentence: squgdqcy•sqygdrcy•squgdrcy•sqygdqcy\n",
            "Decoded sentence: t[mm][mm]nmm\n",
            "\n",
            "-\n",
            "Input sentence: innibu•innieu\n",
            "Decoded sentence: t[mm][mm]nmm\n",
            "\n",
            "-\n",
            "Input sentence: dloxlwa•dyoxlwa•dloxiwa•dyoxiwa\n",
            "Decoded sentence: t[mm][mm]nmm\n",
            "\n"
          ],
          "name": "stdout"
        }
      ]
    },
    {
      "cell_type": "code",
      "metadata": {
        "id": "oxDFecPUTRrr"
      },
      "source": [
        ""
      ],
      "execution_count": null,
      "outputs": []
    }
  ]
}
