{
  "nbformat": 4,
  "nbformat_minor": 0,
  "metadata": {
    "colab": {
      "name": "regex_lstm.ipynb",
      "provenance": [],
      "collapsed_sections": [],
      "include_colab_link": true
    },
    "kernelspec": {
      "name": "python3",
      "display_name": "Python 3"
    },
    "language_info": {
      "name": "python"
    }
  },
  "cells": [
    {
      "cell_type": "markdown",
      "metadata": {
        "id": "view-in-github",
        "colab_type": "text"
      },
      "source": [
        "<a href=\"https://colab.research.google.com/github/abbassix/generalizing-RegEx-with-LSTM/blob/main/regex_bidirectional_lstm.ipynb\" target=\"_parent\"><img src=\"https://colab.research.google.com/assets/colab-badge.svg\" alt=\"Open In Colab\"/></a>"
      ]
    },
    {
      "cell_type": "code",
      "metadata": {
        "id": "t-EShu_YR7Xn"
      },
      "source": [
        "# generate simple regexes like ab[ca]db\n",
        "def regex_generator(length=4.79, n_det=0, n_undet=0, letters='abcdefghijklmnopqrstuvwxyz', nails_length=4):\n",
        "  import random\n",
        "  def inject(string, positions, nails):\n",
        "    positions = [0] + sorted(positions * 2) + [len(string)]\n",
        "    positions = [(positions[i], positions[i+1]) for i in range(0, len(positions), 2)]\n",
        "    partitions = [string[i:j] for (i, j) in positions]\n",
        "    return(''.join([p_+n_ for p_, n_ in zip(partitions, nails)])+partitions[-1])\n",
        "\n",
        "  if n_det == 0:\n",
        "    n_det = max(round(random.gauss(length, 1)), 3)\n",
        "  if n_undet == 0:\n",
        "    n_undet = random.randint(1, round((n_det-1)/2))\n",
        "    \n",
        "  positions = sorted([random.randint(1, int(length) - 1) for _ in range(n_undet)])\n",
        "    \n",
        "  regex_det = ''.join([random.choice(letters) for i in range(n_det)])\n",
        "    \n",
        "  nails = ['[' + ''.join([random.choice(letters) for _ in range(random.randint(2, nails_length))]) + ']' for _ in range(n_undet)]\n",
        "\n",
        "  regex_sample = inject(regex_det, positions, nails)\n",
        "\n",
        "  return(regex_sample)\n",
        "\n",
        "# TO DO: more complex structures"
      ],
      "execution_count": 1,
      "outputs": []
    },
    {
      "cell_type": "code",
      "metadata": {
        "colab": {
          "base_uri": "https://localhost:8080/"
        },
        "id": "DsQLX2TNSBNy",
        "outputId": "768a7f0d-b312-4b2a-df6f-7566a0fbaad4"
      },
      "source": [
        "# install rstr to make samples from regexes as training data\n",
        "!pip install rstr"
      ],
      "execution_count": 2,
      "outputs": [
        {
          "output_type": "stream",
          "text": [
            "Requirement already satisfied: rstr in /usr/local/lib/python3.7/dist-packages (2.2.6)\n"
          ],
          "name": "stdout"
        }
      ]
    },
    {
      "cell_type": "code",
      "metadata": {
        "id": "KK5rvmAGSEig"
      },
      "source": [
        "# decode regexes into samples\n",
        "def regex_decoder(regex):\n",
        "  import rstr\n",
        "  return(rstr.xeger(regex))"
      ],
      "execution_count": 3,
      "outputs": []
    },
    {
      "cell_type": "code",
      "metadata": {
        "id": "P43T79dTSIOb"
      },
      "source": [
        "# generate 5000 regexes\n",
        "y = [regex_generator(length=5, nails_length=2) for _ in range(5000)]"
      ],
      "execution_count": 4,
      "outputs": []
    },
    {
      "cell_type": "code",
      "metadata": {
        "id": "H9u7f2F0SK0E"
      },
      "source": [
        "# generate samples from regexes and remove the repetitions\n",
        "X = [list(set([regex_decoder(regex) for _ in range(100)])) for regex in y]"
      ],
      "execution_count": 5,
      "outputs": []
    },
    {
      "cell_type": "code",
      "metadata": {
        "id": "Eg-KraGMSMte"
      },
      "source": [
        "# make the dataset as a Pandas Data Frame\n",
        "import pandas as pd\n",
        "trainset = pd.DataFrame({'X': X, 'y': y})"
      ],
      "execution_count": 6,
      "outputs": []
    },
    {
      "cell_type": "code",
      "metadata": {
        "id": "DuYdTI34SSwl"
      },
      "source": [
        "# remove those who have only one sample as training and so there could be no generalization at all\n",
        "trainset = trainset[trainset.X.apply(lambda x: len(x) >= 2)]"
      ],
      "execution_count": 7,
      "outputs": []
    },
    {
      "cell_type": "code",
      "metadata": {
        "colab": {
          "base_uri": "https://localhost:8080/",
          "height": 283
        },
        "id": "ok6Crhh2SaO6",
        "outputId": "25511c87-1604-4d4d-88d0-2ddbeba80a8a"
      },
      "source": [
        "# show histogram of number of samples\n",
        "trainset.X.apply(lambda x: len(x)).hist()"
      ],
      "execution_count": 8,
      "outputs": [
        {
          "output_type": "execute_result",
          "data": {
            "text/plain": [
              "<matplotlib.axes._subplots.AxesSubplot at 0x7f627c73fb50>"
            ]
          },
          "metadata": {
            "tags": []
          },
          "execution_count": 8
        },
        {
          "output_type": "display_data",
          "data": {
            "image/png": "[encoded data removed]",
            "text/plain": [
              "<Figure size 432x288 with 1 Axes>"
            ]
          },
          "metadata": {
            "tags": [],
            "needs_background": "light"
          }
        }
      ]
    },
    {
      "cell_type": "code",
      "metadata": {
        "id": "ghXXQvSXSdNA"
      },
      "source": [
        "import numpy as np\n",
        "import tensorflow as tf\n",
        "from tensorflow import keras"
      ],
      "execution_count": 9,
      "outputs": []
    },
    {
      "cell_type": "code",
      "metadata": {
        "colab": {
          "base_uri": "https://localhost:8080/",
          "height": 175
        },
        "id": "ZbMxnzqcSmag",
        "outputId": "6a6c1c5a-9053-44b4-ae1a-a076e287ee09"
      },
      "source": [
        "trainset.describe()"
      ],
      "execution_count": 10,
      "outputs": [
        {
          "output_type": "execute_result",
          "data": {
            "text/html": [
              "<div>\n",
              "<style scoped>\n",
              "    .dataframe tbody tr th:only-of-type {\n",
              "        vertical-align: middle;\n",
              "    }\n",
              "\n",
              "    .dataframe tbody tr th {\n",
              "        vertical-align: top;\n",
              "    }\n",
              "\n",
              "    .dataframe thead th {\n",
              "        text-align: right;\n",
              "    }\n",
              "</style>\n",
              "<table border=\"1\" class=\"dataframe\">\n",
              "  <thead>\n",
              "    <tr style=\"text-align: right;\">\n",
              "      <th></th>\n",
              "      <th>X</th>\n",
              "      <th>y</th>\n",
              "    </tr>\n",
              "  </thead>\n",
              "  <tbody>\n",
              "    <tr>\n",
              "      <th>count</th>\n",
              "      <td>4883</td>\n",
              "      <td>4883</td>\n",
              "    </tr>\n",
              "    <tr>\n",
              "      <th>unique</th>\n",
              "      <td>4883</td>\n",
              "      <td>4883</td>\n",
              "    </tr>\n",
              "    <tr>\n",
              "      <th>top</th>\n",
              "      <td>[hwyumb, hyyuhb, hyyumb, hwyuhb]</td>\n",
              "      <td>pvg[wt][op]lm</td>\n",
              "    </tr>\n",
              "    <tr>\n",
              "      <th>freq</th>\n",
              "      <td>1</td>\n",
              "      <td>1</td>\n",
              "    </tr>\n",
              "  </tbody>\n",
              "</table>\n",
              "</div>"
            ],
            "text/plain": [
              "                                       X              y\n",
              "count                               4883           4883\n",
              "unique                              4883           4883\n",
              "top     [hwyumb, hyyuhb, hyyumb, hwyuhb]  pvg[wt][op]lm\n",
              "freq                                   1              1"
            ]
          },
          "metadata": {
            "tags": []
          },
          "execution_count": 10
        }
      ]
    },
    {
      "cell_type": "code",
      "metadata": {
        "id": "6LzTPL_SSm0y"
      },
      "source": [
        "batch_size = 64  # Batch size for training.\n",
        "epochs = 6  # Number of epochs to train for.\n",
        "latent_dim = 256  # Latent dimensionality of the encoding space.\n",
        "num_samples = 4800  # Number of samples to train on."
      ],
      "execution_count": 11,
      "outputs": []
    },
    {
      "cell_type": "code",
      "metadata": {
        "colab": {
          "base_uri": "https://localhost:8080/"
        },
        "id": "m4njuEebSqgJ",
        "outputId": "839896cb-62af-4578-fd09-6783bf6f7043"
      },
      "source": [
        "# Vectorize the data.\n",
        "input_texts = []\n",
        "target_texts = []\n",
        "input_characters = set(' ')\n",
        "target_characters = set(' ')\n",
        "\n",
        "for index, row in trainset.iterrows():\n",
        "    input_text, target_text = row[0], row[1]\n",
        "    # convert the input from list to string\n",
        "    input_text = '•'.join(input_text)\n",
        "    # We use \"tab\" as the \"start sequence\" character\n",
        "    # for the targets, and \"\\n\" as \"end sequence\" character.\n",
        "    target_text = \"\\t\" + target_text + \"\\n\"\n",
        "    input_texts.append(input_text)\n",
        "    target_texts.append(target_text)\n",
        "    for char in input_text:\n",
        "        if char not in input_characters:\n",
        "            input_characters.add(char)\n",
        "    for char in target_text:\n",
        "        if char not in target_characters:\n",
        "            target_characters.add(char)\n",
        "\n",
        "input_characters = sorted(list(input_characters))\n",
        "target_characters = sorted(list(target_characters))\n",
        "num_encoder_tokens = len(input_characters)\n",
        "num_decoder_tokens = len(target_characters)\n",
        "max_encoder_seq_length = max([len(txt) for txt in input_texts])\n",
        "max_decoder_seq_length = max([len(txt) for txt in target_texts])\n",
        "\n",
        "print(\"Number of samples:\", len(input_texts))\n",
        "print(\"Number of unique input tokens:\", num_encoder_tokens)\n",
        "print(\"Number of unique output tokens:\", num_decoder_tokens)\n",
        "print(\"Max sequence length for inputs:\", max_encoder_seq_length)\n",
        "print(\"Max sequence length for outputs:\", max_decoder_seq_length)\n",
        "\n",
        "input_token_index = dict([(char, i) for i, char in enumerate(input_characters)])\n",
        "target_token_index = dict([(char, i) for i, char in enumerate(target_characters)])\n",
        "\n",
        "encoder_input_data = np.zeros(\n",
        "    (len(input_texts), max_encoder_seq_length, num_encoder_tokens), dtype=\"float32\"\n",
        ")\n",
        "decoder_input_data = np.zeros(\n",
        "    (len(input_texts), max_decoder_seq_length, num_decoder_tokens), dtype=\"float32\"\n",
        ")\n",
        "decoder_target_data = np.zeros(\n",
        "    (len(input_texts), max_decoder_seq_length, num_decoder_tokens), dtype=\"float32\"\n",
        ")\n",
        "\n",
        "for i, (input_text, target_text) in enumerate(zip(input_texts, target_texts)):\n",
        "    for t, char in enumerate(input_text):\n",
        "        encoder_input_data[i, t, input_token_index[char]] = 1.0  # one-hot encoding\n",
        "    encoder_input_data[i, t + 1 :, input_token_index[\" \"]] = 1.0  # padding the rest with space\n",
        "    for t, char in enumerate(target_text):\n",
        "        # decoder_target_data is ahead of decoder_input_data by one timestep\n",
        "        decoder_input_data[i, t, target_token_index[char]] = 1.0\n",
        "        if t > 0:\n",
        "            # decoder_target_data will be ahead by one timestep\n",
        "            # and will not include the start character.\n",
        "            decoder_target_data[i, t - 1, target_token_index[char]] = 1.0\n",
        "    decoder_input_data[i, t + 1 :, target_token_index[\" \"]] = 1.0\n",
        "    decoder_target_data[i, t:, target_token_index[\" \"]] = 1.0"
      ],
      "execution_count": 12,
      "outputs": [
        {
          "output_type": "stream",
          "text": [
            "Number of samples: 4883\n",
            "Number of unique input tokens: 28\n",
            "Number of unique output tokens: 31\n",
            "Max sequence length for inputs: 223\n",
            "Max sequence length for outputs: 27\n"
          ],
          "name": "stdout"
        }
      ]
    },
    {
      "cell_type": "code",
      "metadata": {
        "id": "RAstcxTnStbg"
      },
      "source": [
        "# Define an input sequence and process it.\n",
        "encoder_inputs = keras.Input(shape=(None, num_encoder_tokens))\n",
        "encoder = keras.layers.Bidirectional(keras.layers.LSTM(latent_dim, return_state=True))\n",
        "encoder_outputs, forward_h, forward_c, backward_h, backward_c = encoder(encoder_inputs)\n",
        "\n",
        "# We discard `encoder_outputs` and only keep the states.\n",
        "encoder_states = [forward_h, forward_c, backward_h, backward_c]\n",
        "# Set up the decoder, using `encoder_states` as initial state.\n",
        "decoder_inputs = keras.Input(shape=(None, num_decoder_tokens))\n",
        "\n",
        "# We set up our decoder to return full output sequences,\n",
        "# and to return internal states as well. We don't use the\n",
        "# return states in the training model, but we will use them in inference.\n",
        "decoder_lstm = keras.layers.Bidirectional(keras.layers.LSTM(latent_dim, return_sequences=True, return_state=True))\n",
        "decoder_outputs, _, _, _, _ = decoder_lstm(decoder_inputs, initial_state=encoder_states)\n",
        "decoder_dense = keras.layers.Dense(num_decoder_tokens, activation=\"softmax\")\n",
        "decoder_outputs = decoder_dense(decoder_outputs)\n",
        "\n",
        "# Define the model that will turn\n",
        "# `encoder_input_data` & `decoder_input_data` into `decoder_target_data`\n",
        "model = keras.Model([encoder_inputs, decoder_inputs], decoder_outputs)"
      ],
      "execution_count": 13,
      "outputs": []
    },
    {
      "cell_type": "code",
      "metadata": {
        "colab": {
          "base_uri": "https://localhost:8080/"
        },
        "id": "ZmKxZpiHSxUc",
        "outputId": "639c2f75-8db8-467b-eea8-3e7f51bc9ae3"
      },
      "source": [
        "model.compile(\n",
        "    optimizer=\"rmsprop\", loss=\"categorical_crossentropy\", metrics=[\"accuracy\"]\n",
        ")\n",
        "model.fit(\n",
        "    [encoder_input_data, decoder_input_data],\n",
        "    decoder_target_data,\n",
        "    batch_size=batch_size,\n",
        "    epochs=epochs,\n",
        "    validation_split=0.1,\n",
        ")\n",
        "# Save model\n",
        "model.save(\"lstm_regex\")\n"
      ],
      "execution_count": 14,
      "outputs": [
        {
          "output_type": "stream",
          "text": [
            "Epoch 1/6\n",
            "69/69 [==============================] - 158s 2s/step - loss: 1.8906 - accuracy: 0.5657 - val_loss: 1.2732 - val_accuracy: 0.6567\n",
            "Epoch 2/6\n",
            "69/69 [==============================] - 148s 2s/step - loss: 1.1406 - accuracy: 0.6885 - val_loss: 0.7641 - val_accuracy: 0.7628\n",
            "Epoch 3/6\n",
            "69/69 [==============================] - 149s 2s/step - loss: 0.6272 - accuracy: 0.8232 - val_loss: 0.2678 - val_accuracy: 0.9470\n",
            "Epoch 4/6\n",
            "69/69 [==============================] - 150s 2s/step - loss: 0.1790 - accuracy: 0.9736 - val_loss: 0.0306 - val_accuracy: 0.9988\n",
            "Epoch 5/6\n",
            "69/69 [==============================] - 152s 2s/step - loss: 0.0228 - accuracy: 0.9985 - val_loss: 0.0031 - val_accuracy: 1.0000\n",
            "Epoch 6/6\n",
            "69/69 [==============================] - 152s 2s/step - loss: 0.0017 - accuracy: 1.0000 - val_loss: 1.9949e-04 - val_accuracy: 1.0000\n"
          ],
          "name": "stdout"
        }
      ]
    },
    {
      "cell_type": "code",
      "metadata": {
        "id": "8pw8GCiJSz4e"
      },
      "source": [
        "# Define sampling models\n",
        "# Restore the model and construct the encoder and decoder.\n",
        "model = keras.models.load_model(\"lstm_regex\")\n",
        "\n",
        "encoder_inputs = model.input[0]  # input_1\n",
        "encoder_outputs, forward_h_enc, forward_c_enc, backward_h_enc, backward_c_enc = model.layers[2].output  # lstm_1\n",
        "encoder_states = [forward_h_enc, forward_c_enc, backward_h_enc, backward_c_enc]\n",
        "encoder_model = keras.Model(encoder_inputs, encoder_states)\n",
        "\n",
        "decoder_inputs = model.input[1]  # input_2\n",
        "decoder_state_input_forward_h = keras.Input(shape=(latent_dim,), name=\"input_3\")  #\n",
        "decoder_state_input_forward_c = keras.Input(shape=(latent_dim,), name=\"input_4\")  #\n",
        "decoder_state_input_backward_h = keras.Input(shape=(latent_dim,), name=\"input_5\")  #\n",
        "decoder_state_input_backward_c = keras.Input(shape=(latent_dim,), name=\"input_6\")  #\n",
        "decoder_states_inputs = [decoder_state_input_forward_h, decoder_state_input_forward_c, decoder_state_input_backward_h, decoder_state_input_backward_c]\n",
        "decoder_lstm = model.layers[3]\n",
        "decoder_outputs, forward_h_dec, forward_c_dec, backward_h_dec, backward_c_dec = decoder_lstm(\n",
        "    decoder_inputs, initial_state=decoder_states_inputs\n",
        ")\n",
        "decoder_states = [forward_h_dec, forward_c_dec, backward_h_dec, backward_c_dec]\n",
        "decoder_dense = model.layers[4]\n",
        "decoder_outputs = decoder_dense(decoder_outputs)\n",
        "decoder_model = keras.Model(\n",
        "    [decoder_inputs] + decoder_states_inputs, [decoder_outputs] + decoder_states\n",
        ")\n",
        "\n",
        "# Reverse-lookup token index to decode sequences back to\n",
        "# something readable.\n",
        "reverse_input_char_index = dict((i, char) for char, i in input_token_index.items())\n",
        "reverse_target_char_index = dict((i, char) for char, i in target_token_index.items())\n",
        "\n",
        "\n",
        "def decode_sequence(input_seq):\n",
        "    # Encode the input as state vectors.\n",
        "    states_value = encoder_model.predict(input_seq)\n",
        "\n",
        "    # Generate empty target sequence of length 1.\n",
        "    target_seq = np.zeros((1, 1, num_decoder_tokens))\n",
        "    # Populate the first character of target sequence with the start character.\n",
        "    target_seq[0, 0, target_token_index[\"\\t\"]] = 1.0\n",
        "\n",
        "    # Sampling loop for a batch of sequences\n",
        "    # (to simplify, here we assume a batch of size 1).\n",
        "    stop_condition = False\n",
        "    decoded_sentence = \"\"\n",
        "    while not stop_condition:\n",
        "        output_tokens, forward_h, forward_c, backward_h, backward_c = decoder_model.predict([target_seq] + states_value)\n",
        "\n",
        "        # Sample a token\n",
        "        sampled_token_index = np.argmax(output_tokens[0, -1, :])\n",
        "        sampled_char = reverse_target_char_index[sampled_token_index]\n",
        "        decoded_sentence += sampled_char\n",
        "\n",
        "        # Exit condition: either hit max length\n",
        "        # or find stop character.\n",
        "        if sampled_char == \"\\n\" or len(decoded_sentence) > max_decoder_seq_length:\n",
        "            stop_condition = True\n",
        "\n",
        "        # Update the target sequence (of length 1).\n",
        "        target_seq = np.zeros((1, 1, num_decoder_tokens))\n",
        "        target_seq[0, 0, sampled_token_index] = 1.0\n",
        "\n",
        "        # Update states\n",
        "        states_value = [forward_h, forward_c, backward_h, backward_c]\n",
        "    return decoded_sentence\n"
      ],
      "execution_count": 15,
      "outputs": []
    },
    {
      "cell_type": "code",
      "metadata": {
        "colab": {
          "base_uri": "https://localhost:8080/"
        },
        "id": "itGGG7FkS5bq",
        "outputId": "273d6482-59fe-4795-8924-992eecccdbee"
      },
      "source": [
        "for seq_index in range(20):\n",
        "    # Take one sequence (part of the training set)\n",
        "    # for trying out decoding.\n",
        "    input_seq = encoder_input_data[seq_index : seq_index + 1]\n",
        "    decoded_sentence = decode_sequence(input_seq)\n",
        "    print(\"-\")\n",
        "    print(\"Input sentence:\", input_texts[seq_index])\n",
        "    print(\"Decoded sentence:\", decoded_sentence)\n"
      ],
      "execution_count": 16,
      "outputs": [
        {
          "output_type": "stream",
          "text": [
            "-\n",
            "Input sentence: qumpoej•quzpohj•qumpohj•quzpoej\n",
            "Decoded sentence: uuuuuuuuuuuuuuuuuuuuuuuuuuuu\n",
            "-\n",
            "Input sentence: lmhvew•lmfvem•lmhvem•lmfvew\n",
            "Decoded sentence: uuuuuuuuuuuuuuuuuuuuuuuuuuuu\n",
            "-\n",
            "Input sentence: zkqiq•zkqyq\n",
            "Decoded sentence: uuuuuuuuuuuuuuuuuuuuuuuuuuuu\n",
            "-\n",
            "Input sentence: druormds•drucrmds\n",
            "Decoded sentence: uuuuuuuuuuuuuuuuuuuuuuuuuuuu\n",
            "-\n",
            "Input sentence: smlayg•smlayy•sklayy•sklayg\n",
            "Decoded sentence: uuuuuuuuuuuuuuuuuuuuuuuuuuuu\n",
            "-\n",
            "Input sentence: vbgvhsat•vwgvpsat•vbgvpsat•vwgvhsat\n",
            "Decoded sentence: uuuuuuuuuuuuuuuuuuuuuuuuuuuu\n",
            "-\n",
            "Input sentence: xnseuc•xnseac\n",
            "Decoded sentence:                             \n",
            "-\n",
            "Input sentence: jjcwazj•jccwazj\n",
            "Decoded sentence:                             \n",
            "-\n",
            "Input sentence: iudsmd•iudmmd•iudmmb•iudsmb\n",
            "Decoded sentence: uuuuuuuuuuuuuuuuuuuuuuuuuuuu\n",
            "-\n",
            "Input sentence: xpngaxo•xgngaxo•xpngmxo•xgngmxo\n",
            "Decoded sentence: uuuuuuuuuuuuuuuuuuuuuuuuuuuu\n",
            "-\n",
            "Input sentence: evcfb•evcfe\n",
            "Decoded sentence: uuuuuuuuuuuuuuuuuuuuuuuuuuuu\n",
            "-\n",
            "Input sentence: qpgacb•qpgkcb•qpnkcb•qpnacb\n",
            "Decoded sentence: uuuuuuuuuuuuuuuuuuuuuuuuuuuu\n",
            "-\n",
            "Input sentence: ryrumde•ryrumse•ryaumse•ryaumde\n",
            "Decoded sentence: uuuuuuuuuuuuuuuuuuuuuuuuuuuu\n",
            "-\n",
            "Input sentence: lrvyh•lrryh\n",
            "Decoded sentence: uuuuuuuuuuuuuuuuuuuuuuuuuuuu\n",
            "-\n",
            "Input sentence: eoepqxc•egepuxc•egepqxc•eoepuxc\n",
            "Decoded sentence: uuuuuuuuuuuuuuuuuuuuuuuuuuuu\n",
            "-\n",
            "Input sentence: witicm•witiam\n",
            "Decoded sentence:                             \n",
            "-\n",
            "Input sentence: dcvwomje•dcvgomje•dcvwosje•dcvgosje\n",
            "Decoded sentence: uuuuuuuuuuuuuuuuuuuuuuuuuuuu\n",
            "-\n",
            "Input sentence: pbugc•pbfgc\n",
            "Decoded sentence: uuuuuuuuuuuuuuuuuuuuuuuuuuuu\n",
            "-\n",
            "Input sentence: uumc•uumu\n",
            "Decoded sentence: uuuuuuuuuuuuuuuuuuuuuuuuuuuu\n",
            "-\n",
            "Input sentence: esott•esdtt\n",
            "Decoded sentence:                             \n"
          ],
          "name": "stdout"
        }
      ]
    },
    {
      "cell_type": "code",
      "metadata": {
        "id": "oxDFecPUTRrr"
      },
      "source": [
        ""
      ],
      "execution_count": null,
      "outputs": []
    }
  ]
}
